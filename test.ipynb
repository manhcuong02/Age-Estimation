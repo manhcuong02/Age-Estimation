{
 "cells": [
  {
   "cell_type": "code",
   "execution_count": 5,
   "metadata": {},
   "outputs": [],
   "source": [
    "import os\n",
    "if not os.path.exists(os.path.join(\"runs\", \"predict\")):\n",
    "    os.makedirs(os.path.join(\"runs\", \"predict\"))"
   ]
  },
  {
   "cell_type": "code",
   "execution_count": 4,
   "metadata": {},
   "outputs": [],
   "source": [
    "# from predict import AgeEstimator \n",
    "# import torch\n",
    "# import matplotlib.pyplot as plt\n",
    "# filename = \"Images/ngoc5.jpg\"\n",
    "# model = AgeEstimator(weights = \"weights/weights.pt\")\n",
    "# predicted_image = model.predict(filename)\n",
    "# plt.figure(figsize = (10,8))\n",
    "# plt.imshow(predicted_image)"
   ]
  },
  {
   "cell_type": "code",
   "execution_count": null,
   "metadata": {},
   "outputs": [],
   "source": []
  }
 ],
 "metadata": {
  "kernelspec": {
   "display_name": "venv",
   "language": "python",
   "name": "python3"
  },
  "language_info": {
   "codemirror_mode": {
    "name": "ipython",
    "version": 3
   },
   "file_extension": ".py",
   "mimetype": "text/x-python",
   "name": "python",
   "nbconvert_exporter": "python",
   "pygments_lexer": "ipython3",
   "version": "3.8.10"
  },
  "orig_nbformat": 4
 },
 "nbformat": 4,
 "nbformat_minor": 2
}
